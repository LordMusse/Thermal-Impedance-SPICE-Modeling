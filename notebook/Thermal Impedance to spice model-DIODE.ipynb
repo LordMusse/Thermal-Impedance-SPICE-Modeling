{
 "cells": [
  {
   "cell_type": "markdown",
   "id": "54433117-cb4f-4f29-b3f4-51e7f11a8297",
   "metadata": {},
   "source": [
    "# Thermal Impedance to SPICE-model\n",
    "## How to read data sheet\n",
    "The example DIODE used is SM6TY\n",
    "![alt text](Example_Diode_Thermal_Impedance.png \"Title\")\n"
   ]
  },
  {
   "cell_type": "markdown",
   "id": "388f827a-a459-457c-8824-ff3831dfc98e",
   "metadata": {},
   "source": [
    "## import libraries"
   ]
  },
  {
   "cell_type": "code",
   "execution_count": 1,
   "id": "6b6c6625-d187-4368-9f07-49c77fd71cec",
   "metadata": {},
   "outputs": [],
   "source": [
    "import numpy as np\n",
    "import matplotlib.pyplot as plt\n",
    "from scipy.optimize import curve_fit"
   ]
  },
  {
   "cell_type": "markdown",
   "id": "f985ed55-78f9-40bd-bf08-67b23beb4d5f",
   "metadata": {},
   "source": [
    "## The serie of thermal impedance exponentials"
   ]
  },
  {
   "cell_type": "code",
   "execution_count": 2,
   "id": "33f36e13-b222-4f7f-8e49-7765a8deda29",
   "metadata": {},
   "outputs": [],
   "source": [
    "def model_function(t, Ri, Ti):\n",
    "    return np.multiply(Ri, (1-np.exp(np.multiply(t*-1,Ti))))\n",
    "\n",
    "def model_series(t, R1, T1, R2, T2, R3, T3, R4, T4, R5, T5, R6, T6):\n",
    "    return  model_function(t, R1, T1) + model_function(t, R2, T2) + model_function(t, R3, T3) + model_function(t, R4, T4) + model_function(t, R5, T5) + model_function(t, R6, T6)"
   ]
  },
  {
   "cell_type": "markdown",
   "id": "93ab48f2-a954-43d0-b876-abddc160e597",
   "metadata": {},
   "source": [
    "## Input data here like the blue dots in the graph above"
   ]
  },
  {
   "cell_type": "code",
   "execution_count": 3,
   "id": "3aeafcc1-a51f-4822-be59-b0bf759e67b4",
   "metadata": {},
   "outputs": [
    {
     "name": "stdout",
     "output_type": "stream",
     "text": [
      "This is your x data\n",
      "[0.01, 0.02, 0.05, 0.1, 0.5, 1.0, 5.0, 10.0, 20.0, 50.0, 100.0, 500.0, 1000.0]\n",
      "this is your y data\n",
      "[3.5, 4.0, 5.5, 7.0, 15.0, 23.0, 55.0, 65.0, 83.0, 110.0, 130.0, 150.0, 150.0]\n"
     ]
    }
   ],
   "source": [
    "# look up deephaven input_table: https://deephaven.io/core/docs/how-to-guides/input-tables/\n",
    "x_data = [1e-2,2e-2,5e-2,1e-1,5e-1,1e0,5e0,1e1,2e1,5e1,1e2,5e2,1e3]\n",
    "y_data = [3.5e0,4e0,5.5e0,7e0,1.5e1,2.3e1,5.5e1,6.5e1,8.3e1,1.1e2,1.3e2,1.5e2,1.5e2]\n",
    "\n",
    "print(\"This is your x data\")\n",
    "print(x_data)\n",
    "print(\"this is your y data\")\n",
    "print(y_data)"
   ]
  },
  {
   "cell_type": "markdown",
   "id": "4ac02f83-151b-4181-aa05-2271a4fcb401",
   "metadata": {},
   "source": [
    "## If the thermal curve is only relative the thermal resistance provided in data sheet\n",
    "Provide the thermal resistance or if not set it to 99999"
   ]
  },
  {
   "cell_type": "code",
   "execution_count": 5,
   "id": "1733ff56-3a4a-47f1-b1aa-f9d886085a2a",
   "metadata": {},
   "outputs": [],
   "source": [
    "Rth = 99999"
   ]
  },
  {
   "cell_type": "markdown",
   "id": "ed4bc64b-034f-4679-a24c-e0a3906578d9",
   "metadata": {},
   "source": [
    "## Set the axes of your plot to the same as the plot in the datasheet\n",
    "In the graph above its xlim \n",
    "\n",
    "set is_square_plot = True if your plot is square and False if it's not"
   ]
  },
  {
   "cell_type": "code",
   "execution_count": 6,
   "id": "2bec7630-6eca-4c4e-ae1f-8f646f4c6dce",
   "metadata": {},
   "outputs": [
    {
     "data": {
      "image/png": "[encoded data removed]",
      "text/plain": [
       "<Figure size 640x480 with 1 Axes>"
      ]
     },
     "metadata": {},
     "output_type": "display_data"
    }
   ],
   "source": [
    "graph_scale_base = 10\n",
    "\n",
    "time_scale_lowest_exponent = -2\n",
    "time_scale_highest_exponent = 3\n",
    "\n",
    "thermal_impedance_lowest_exponent = 0\n",
    "thermal_impedance_highest_exponent = 3\n",
    "\n",
    "is_square_plot = True\n",
    "\n",
    "t_lower_limit = graph_scale_base**time_scale_lowest_exponent\n",
    "t_upper_limit = graph_scale_base**time_scale_highest_exponent\n",
    "z_lower_limit = graph_scale_base**thermal_impedance_lowest_exponent\n",
    "z_upper_limit = graph_scale_base**thermal_impedance_highest_exponent\n",
    "\n",
    "# expand the amount of points in time(logarithmically spaced) for more elaborate graphs\n",
    "x_data_expanded = np.logspace(time_scale_lowest_exponent, time_scale_highest_exponent, num=1000, base=graph_scale_base)\n",
    "\n",
    "# create figure and initiate subplot\n",
    "fig = plt.figure()\n",
    "ax = fig.add_subplot(2,1,1)\n",
    "\n",
    "# plot data\n",
    "line = ax.scatter(x_data, y_data, label='Data', color='blue', lw=1)\n",
    "line = ax.plot(x_data, y_data, label='Data', color='red', lw=1)\n",
    "\n",
    "# set labels\n",
    "ax.set_xlabel('t')\n",
    "ax.set_ylabel('Zth')\n",
    "ax.set_title('chosen data points for curve matching')\n",
    "\n",
    "if is_square_plot:\n",
    "    ax.set_aspect('equal', adjustable='box')\n",
    "\n",
    "# set limits\n",
    "plt.xlim([t_lower_limit, t_upper_limit])\n",
    "plt.ylim([z_lower_limit, z_upper_limit])\n",
    "\n",
    "# set to logarithmic scales\n",
    "ax.set_xscale('log')\n",
    "ax.set_yscale('log')\n",
    "\n",
    "# set grid lines\n",
    "ax.grid(True, linestyle='--', alpha=0.6)"
   ]
  },
  {
   "cell_type": "markdown",
   "id": "bed849b9-6b68-4c19-a6f4-50df90b10e4d",
   "metadata": {},
   "source": [
    "## Make an initial guess for the parameters resistance Ri and timeconstant Ti"
   ]
  },
  {
   "cell_type": "markdown",
   "id": "69426b90-1ad4-4c19-bd67-d4b662ea1e4b",
   "metadata": {},
   "source": [
    "The function is displayed logarithmically and that since it makes most sense\n",
    "we distribute the R values logarithmically between the first value and the end value"
   ]
  },
  {
   "cell_type": "code",
   "execution_count": 7,
   "id": "1eb376e1-aa9c-407f-9cc1-c34d8c16a6a9",
   "metadata": {},
   "outputs": [
    {
     "name": "stdout",
     "output_type": "stream",
     "text": [
      "[np.float64(1.8698954041696316), np.float64(442.566099000048), np.float64(3.964806138984179), np.float64(50.83749498988103), np.float64(8.406720335626101), np.float64(5.83969468670463), np.float64(17.8250699590413), np.float64(0.6708047680302538), np.float64(37.795133697766), np.float64(0.07705523335605202), np.float64(80.13837446441278), np.float64(0.00885132198000096)]\n"
     ]
    }
   ],
   "source": [
    "n = 6\n",
    "datapoint_breakpoint = 12\n",
    "\n",
    "# distributes y-data\n",
    "distribution = np.empty(n)\n",
    "val_max = y_data[12]\n",
    "val_min = y_data[0]\n",
    "\n",
    "for i in range(n):\n",
    "    distribution[i] = val_min * np.power((val_max/val_min), (i/(n-1)) )\n",
    "\n",
    "normalized_distribution = np.empty_like(distribution)\n",
    "\n",
    "for i in range(n):\n",
    "    normalized_distribution[i] = distribution[i] * val_max / np.sum(distribution)\n",
    "\n",
    "#distributes x-data\n",
    "distribution_x = np.empty(n)\n",
    "val_max_x = x_data[datapoint_breakpoint-1]\n",
    "val_min_x = x_data[0]\n",
    "\n",
    "for i in range(n):\n",
    "    distribution_x[i] = val_min_x * np.power((val_max_x/val_min_x), (i/(n-1)) )\n",
    "\n",
    "normalized_distribution_x = np.empty_like(distribution_x)\n",
    "\n",
    "for i in range(n):\n",
    "    normalized_distribution_x[i] = distribution_x[i] * val_max_x / np.sum(distribution_x)\n",
    "\n",
    "initial_guess = [ normalized_distribution[0] , normalized_distribution_x[5]\\\n",
    "                 ,normalized_distribution[1] , normalized_distribution_x[4]\\\n",
    "                 ,normalized_distribution[2] , normalized_distribution_x[3]\\\n",
    "                 ,normalized_distribution[3] , normalized_distribution_x[2]\\\n",
    "                 ,normalized_distribution[4] , normalized_distribution_x[1]\\\n",
    "                 ,normalized_distribution[5] , normalized_distribution_x[0]]\n",
    "print(initial_guess)"
   ]
  },
  {
   "cell_type": "markdown",
   "id": "f9cfafa2-8de5-445e-a2da-e9d8a43be255",
   "metadata": {},
   "source": [
    "## Plot the initial guesses"
   ]
  },
  {
   "cell_type": "code",
   "execution_count": 8,
   "id": "85e8c923-2232-477b-bc41-eeee4a3c992e",
   "metadata": {},
   "outputs": [
    {
     "data": {
      "image/png": "[encoded data removed]",
      "text/plain": [
       "<Figure size 640x480 with 1 Axes>"
      ]
     },
     "metadata": {},
     "output_type": "display_data"
    }
   ],
   "source": [
    "y_data_initial = np.empty_like(x_data_expanded)\n",
    "y_data_initial_1 = np.empty_like(x_data_expanded)\n",
    "y_data_initial_2 = np.empty_like(x_data_expanded)\n",
    "y_data_initial_3 = np.empty_like(x_data_expanded)\n",
    "y_data_initial_4 = np.empty_like(x_data_expanded)\n",
    "y_data_initial_5 = np.empty_like(x_data_expanded)\n",
    "y_data_initial_6 = np.empty_like(x_data_expanded)\n",
    "\n",
    "for i in range(len(x_data_expanded)):\n",
    "    y_data_initial[i] = model_series(x_data_expanded[i]\\\n",
    "                                     ,initial_guess[0], initial_guess[1]\\\n",
    "                                     ,initial_guess[2], initial_guess[3]\\\n",
    "                                     ,initial_guess[4], initial_guess[5]\\\n",
    "                                     ,initial_guess[6], initial_guess[7]\\\n",
    "                                     ,initial_guess[8], initial_guess[9]\\\n",
    "                                     ,initial_guess[10],initial_guess[11])\n",
    "    y_data_initial_1[i] = model_function(x_data_expanded[i]\\\n",
    "                                         ,initial_guess[0], initial_guess[1])\n",
    "\n",
    "    y_data_initial_2[i] = model_function(x_data_expanded[i]\\\n",
    "                                         ,initial_guess[2], initial_guess[3])\n",
    "\n",
    "    y_data_initial_3[i] = model_function(x_data_expanded[i]\\\n",
    "                                         ,initial_guess[4], initial_guess[5])\n",
    "\n",
    "    y_data_initial_4[i] = model_function(x_data_expanded[i]\\\n",
    "                                         ,initial_guess[6], initial_guess[7])\n",
    "    \n",
    "    y_data_initial_5[i] = model_function(x_data_expanded[i]\\\n",
    "                                         ,initial_guess[8], initial_guess[9])\n",
    "    \n",
    "    y_data_initial_6[i] = model_function(x_data_expanded[i]\\\n",
    "                                         ,initial_guess[10], initial_guess[11])\n",
    "\n",
    "# create figure and initiate subplot\n",
    "fig = plt.figure()\n",
    "ax = fig.add_subplot(2,1,1)\n",
    "\n",
    "# plot data\n",
    "line = ax.plot(x_data_expanded, y_data_initial, label='Data', color='green', lw=1)\n",
    "line = ax.plot(x_data_expanded, y_data_initial_1, label='Data', color='red', lw=1)\n",
    "line = ax.plot(x_data_expanded, y_data_initial_2, label='Data', color='red', lw=1)\n",
    "line = ax.plot(x_data_expanded, y_data_initial_3, label='Data', color='red', lw=1)\n",
    "line = ax.plot(x_data_expanded, y_data_initial_4, label='Data', color='red', lw=1)\n",
    "line = ax.plot(x_data_expanded, y_data_initial_5, label='Data', color='red', lw=1)\n",
    "line = ax.plot(x_data_expanded, y_data_initial_6, label='Data', color='red', lw=1)\n",
    "data = ax.scatter(x_data, y_data, label='Data', color='blue', lw=1)\n",
    "\n",
    "# set labels\n",
    "ax.set_xlabel('t')\n",
    "ax.set_ylabel('Zth')\n",
    "ax.set_title('chosen data points for curve matching')\n",
    "\n",
    "if is_square_plot:\n",
    "    ax.set_aspect('equal', adjustable='box')\n",
    "\n",
    "# set limits\n",
    "plt.xlim([t_lower_limit, t_upper_limit])\n",
    "plt.ylim([z_lower_limit, z_upper_limit])\n",
    "\n",
    "# set to logarithmic scales\n",
    "ax.set_xscale('log')\n",
    "ax.set_yscale('log')\n",
    "\n",
    "# set grid lines\n",
    "ax.grid(True, linestyle='--', alpha=0.6)\n"
   ]
  },
  {
   "cell_type": "markdown",
   "id": "bb777b48-3f78-4a16-8a6d-5e6299288bd4",
   "metadata": {},
   "source": [
    "## Adjust guess"
   ]
  },
  {
   "cell_type": "code",
   "execution_count": 9,
   "id": "2cbbcb91-471a-426a-8720-6c90da86c372",
   "metadata": {},
   "outputs": [
    {
     "data": {
      "image/png": "[encoded data removed]",
      "text/plain": [
       "<Figure size 640x480 with 1 Axes>"
      ]
     },
     "metadata": {},
     "output_type": "display_data"
    }
   ],
   "source": [
    "initial_guess[0] += 1\n",
    "\n",
    "#bad = True\n",
    "#furthest_off = 2\n",
    "#amount = -2e0\n",
    "#if bad:\n",
    "#    initial_guess[(furthest_off-1)*2] = initial_guess[(furthest_off-1)*2] - amount/2\n",
    "\n",
    "y_data_initial = np.empty_like(x_data_expanded)\n",
    "y_data_initial_1 = np.empty_like(x_data_expanded)\n",
    "y_data_initial_2 = np.empty_like(x_data_expanded)\n",
    "y_data_initial_3 = np.empty_like(x_data_expanded)\n",
    "y_data_initial_4 = np.empty_like(x_data_expanded)\n",
    "y_data_initial_5 = np.empty_like(x_data_expanded)\n",
    "y_data_initial_6 = np.empty_like(x_data_expanded)\n",
    "\n",
    "for i in range(len(x_data_expanded)):\n",
    "    y_data_initial[i] = model_series(x_data_expanded[i]\\\n",
    "                                     ,initial_guess[0], initial_guess[1]\\\n",
    "                                     ,initial_guess[2], initial_guess[3]\\\n",
    "                                     ,initial_guess[4], initial_guess[5]\\\n",
    "                                     ,initial_guess[6], initial_guess[7]\\\n",
    "                                     ,initial_guess[8], initial_guess[9]\\\n",
    "                                     ,initial_guess[10],initial_guess[11])\n",
    "    y_data_initial_1[i] = model_function(x_data_expanded[i]\\\n",
    "                                         ,initial_guess[0], initial_guess[1])\n",
    "\n",
    "    y_data_initial_2[i] = model_function(x_data_expanded[i]\\\n",
    "                                         ,initial_guess[2], initial_guess[3])\n",
    "\n",
    "    y_data_initial_3[i] = model_function(x_data_expanded[i]\\\n",
    "                                         ,initial_guess[4], initial_guess[5])\n",
    "\n",
    "    y_data_initial_4[i] = model_function(x_data_expanded[i]\\\n",
    "                                         ,initial_guess[6], initial_guess[7])\n",
    "    \n",
    "    y_data_initial_5[i] = model_function(x_data_expanded[i]\\\n",
    "                                         ,initial_guess[8], initial_guess[9])\n",
    "    \n",
    "    y_data_initial_6[i] = model_function(x_data_expanded[i]\\\n",
    "                                         ,initial_guess[10], initial_guess[11])\n",
    "\n",
    "# create figure and initiate subplot\n",
    "fig = plt.figure()\n",
    "ax = fig.add_subplot(2,1,1)\n",
    "\n",
    "# plot data\n",
    "line = ax.plot(x_data_expanded, y_data_initial, label='Data', color='green', lw=1)\n",
    "line = ax.plot(x_data_expanded, y_data_initial_1, label='Data', color='red', lw=1)\n",
    "line = ax.plot(x_data_expanded, y_data_initial_2, label='Data', color='red', lw=1)\n",
    "line = ax.plot(x_data_expanded, y_data_initial_3, label='Data', color='red', lw=1)\n",
    "line = ax.plot(x_data_expanded, y_data_initial_4, label='Data', color='red', lw=1)\n",
    "line = ax.plot(x_data_expanded, y_data_initial_5, label='Data', color='red', lw=1)\n",
    "line = ax.plot(x_data_expanded, y_data_initial_6, label='Data', color='red', lw=1)\n",
    "data = ax.scatter(x_data, y_data, label='Data', color='blue', lw=1)\n",
    "\n",
    "# set labels\n",
    "ax.set_xlabel('t')\n",
    "ax.set_ylabel('Zth')\n",
    "ax.set_title('chosen data points for curve matching')\n",
    "\n",
    "if is_square_plot:\n",
    "    ax.set_aspect('equal', adjustable='box')\n",
    "\n",
    "# set limits\n",
    "plt.xlim([t_lower_limit, t_upper_limit])\n",
    "plt.ylim([z_lower_limit, z_upper_limit])\n",
    "\n",
    "# set to logarithmic scales\n",
    "ax.set_xscale('log')\n",
    "ax.set_yscale('log')\n",
    "\n",
    "# set grid lines\n",
    "ax.grid(True, linestyle='--', alpha=0.6)\n"
   ]
  },
  {
   "cell_type": "markdown",
   "id": "0ec1ac5a-2803-41ff-8d97-d0f6519f59eb",
   "metadata": {},
   "source": [
    "## Run curve fit"
   ]
  },
  {
   "cell_type": "code",
   "execution_count": 10,
   "id": "d7e1dacb-a033-43d8-a99b-71c369c8af21",
   "metadata": {},
   "outputs": [
    {
     "name": "stderr",
     "output_type": "stream",
     "text": [
      "/tmp/ipykernel_83/4051863435.py:2: RuntimeWarning: overflow encountered in exp\n",
      "  return np.multiply(Ri, (1-np.exp(np.multiply(t*-1,Ti))))\n"
     ]
    },
    {
     "name": "stdout",
     "output_type": "stream",
     "text": [
      "Initial guess:        R1 = 2.8698954041696316,                T1 = 442.566099000048\n",
      "Optimized parameters: R1 = 2.4189373659565034, T1 = 1034.350323903152\n",
      "Initial guess:        R2 = 3.964806138984179,                T2 = 50.83749498988103\n",
      "Optimized parameters: R2 = 1.9341153089845189, T2 = 51.21480064880608\n",
      "Initial guess:        R3 = 8.406720335626101,                T3 = 5.83969468670463\n",
      "Optimized parameters: R3 = 9.57111504504735, T3 = 0.04002529217934117\n",
      "Initial guess:        R4 = 17.8250699590413,                T4 = 0.6708047680302538\n",
      "Optimized parameters: R4 = 40.93086342621274, T4 = 0.5273790773673156\n",
      "Initial guess:        R5 = 37.795133697766,                T5 = 0.07705523335605202\n",
      "Optimized parameters: R5 = 36.04601362200058, T5 = 0.04002511637526152\n",
      "Initial guess:        R6 = 80.13837446441278,               T6 = 0.00885132198000096\n",
      "Optimized parameters: R6 = 59.20581416937648, T6 = 0.011213714945537119\n"
     ]
    },
    {
     "data": {
      "image/png": "[encoded data removed]",
      "text/plain": [
       "<Figure size 640x480 with 1 Axes>"
      ]
     },
     "metadata": {},
     "output_type": "display_data"
    }
   ],
   "source": [
    "# Step 4: Use curve_fit to fit the model to the data\n",
    "params, params_covariance = curve_fit(model_series, x_data, y_data, p0=initial_guess, method='lm')\n",
    "\n",
    "# Step 5: Extract and print the optimized parameters\n",
    "R1_opt, T1_opt, R2_opt, T2_opt, R3_opt, T3_opt, R4_opt, T4_opt, R5_opt, T5_opt, R6_opt, T6_opt = params\n",
    "print(f\"Initial guess:        R1 = {initial_guess[0]},                T1 = {initial_guess[1]}\")\n",
    "print(f\"Optimized parameters: R1 = {R1_opt}, T1 = {T1_opt}\")\n",
    "print(f\"Initial guess:        R2 = {initial_guess[2]},                T2 = {initial_guess[3]}\")\n",
    "print(f\"Optimized parameters: R2 = {R2_opt}, T2 = {T2_opt}\")\n",
    "print(f\"Initial guess:        R3 = {initial_guess[4]},                T3 = {initial_guess[5]}\")\n",
    "print(f\"Optimized parameters: R3 = {R3_opt}, T3 = {T3_opt}\")\n",
    "print(f\"Initial guess:        R4 = {initial_guess[6]},                T4 = {initial_guess[7]}\")\n",
    "print(f\"Optimized parameters: R4 = {R4_opt}, T4 = {T4_opt}\")\n",
    "print(f\"Initial guess:        R5 = {initial_guess[8]},                T5 = {initial_guess[9]}\")\n",
    "print(f\"Optimized parameters: R5 = {R5_opt}, T5 = {T5_opt}\")\n",
    "print(f\"Initial guess:        R6 = {initial_guess[10]},               T6 = {initial_guess[11]}\")\n",
    "print(f\"Optimized parameters: R6 = {R6_opt}, T6 = {T6_opt}\")\n",
    "\n",
    "y_data_fitted = np.empty_like(x_data_expanded)\n",
    "y_data_fitted_1 = np.empty_like(x_data_expanded)\n",
    "y_data_fitted_2 = np.empty_like(x_data_expanded)\n",
    "y_data_fitted_3 = np.empty_like(x_data_expanded)\n",
    "y_data_fitted_4 = np.empty_like(x_data_expanded)\n",
    "y_data_fitted_5 = np.empty_like(x_data_expanded)\n",
    "y_data_fitted_6 = np.empty_like(x_data_expanded)\n",
    "\n",
    "# Plot the data and the fitted curve\n",
    "for i in range(len(x_data_expanded)):\n",
    "    y_data_fitted[i] = model_series(x_data_expanded[i]\\\n",
    "                                     ,R1_opt, T1_opt\\\n",
    "                                     ,R2_opt, T2_opt\\\n",
    "                                     ,R3_opt, T3_opt\\\n",
    "                                     ,R4_opt, T4_opt\\\n",
    "                                     ,R5_opt, T5_opt\\\n",
    "                                     ,R6_opt, T6_opt)\n",
    "\n",
    "    y_data_fitted_1[i] = model_function(x_data_expanded[i]\\\n",
    "                                         ,R1_opt, T1_opt)\n",
    "\n",
    "    y_data_fitted_2[i] = model_function(x_data_expanded[i]\\\n",
    "                                         ,R2_opt, T2_opt)\n",
    "    \n",
    "    y_data_fitted_3[i] = model_function(x_data_expanded[i]\\\n",
    "                                         ,R3_opt, T3_opt)\n",
    "    \n",
    "    y_data_fitted_4[i] = model_function(x_data_expanded[i]\\\n",
    "                                         ,R4_opt, T4_opt)\n",
    "    \n",
    "    y_data_fitted_5[i] = model_function(x_data_expanded[i]\\\n",
    "                                         ,R5_opt, T5_opt)\n",
    "    \n",
    "    y_data_fitted_6[i] = model_function(x_data_expanded[i]\\\n",
    "                                         ,R6_opt, T6_opt)\n",
    "\n",
    "# create figure and initiate subplot\n",
    "fig = plt.figure()\n",
    "ax = fig.add_subplot(2,1,1)\n",
    "\n",
    "# plot data\n",
    "line = ax.plot(x_data_expanded, y_data_fitted, label='Data', color='green', lw=1)\n",
    "line = ax.plot(x_data_expanded, y_data_fitted_1, label='Data', color='red', lw=1)\n",
    "line = ax.plot(x_data_expanded, y_data_fitted_2, label='Data', color='red', lw=1)\n",
    "line = ax.plot(x_data_expanded, y_data_fitted_3, label='Data', color='red', lw=1)\n",
    "line = ax.plot(x_data_expanded, y_data_fitted_4, label='Data', color='red', lw=1)\n",
    "line = ax.plot(x_data_expanded, y_data_fitted_5, label='Data', color='red', lw=1)\n",
    "line = ax.plot(x_data_expanded, y_data_fitted_6, label='Data', color='red', lw=1)\n",
    "data = ax.scatter(x_data, y_data, label='Data', color='blue', lw=1)\n",
    "\n",
    "# set labels\n",
    "ax.set_xlabel('t')\n",
    "ax.set_ylabel('Zth')\n",
    "ax.set_title('fitted model')\n",
    "\n",
    "if is_square_plot:\n",
    "    ax.set_aspect('equal', adjustable='box')\n",
    "\n",
    "# set limits\n",
    "plt.xlim([t_lower_limit, t_upper_limit])\n",
    "plt.ylim([z_lower_limit, z_upper_limit])\n",
    "\n",
    "# set to logarithmic scales\n",
    "ax.set_xscale('log')\n",
    "ax.set_yscale('log')\n",
    "\n",
    "# set grid lines\n",
    "ax.grid(True, linestyle='--', alpha=0.6)"
   ]
  },
  {
   "cell_type": "markdown",
   "id": "d97392e9-fb9e-4743-ad4f-a1db5921c58c",
   "metadata": {},
   "source": [
    "## the components in the foster tank is therefore\n",
    "since:\n",
    "$$ C_i = \\frac{\\tau_i}{R_i} $$\n",
    "and we specified:\n",
    "$$ \\tau_i = \\frac{1}{T_i} $$\n",
    "then:\n",
    "$$ C_i = \\frac{1}{T_i R_i} $$"
   ]
  },
  {
   "cell_type": "code",
   "execution_count": 11,
   "id": "6b657896-2e89-4dde-963f-9cb1cbaba1d6",
   "metadata": {},
   "outputs": [
    {
     "name": "stdout",
     "output_type": "stream",
     "text": [
      "Optimized parameters: R1 = 2.4189373659565034, C1 = 0.0003996756794962862\n",
      "Optimized parameters: R2 = 1.9341153089845189, C2 = 0.010095367913945753\n",
      "Optimized parameters: R3 = 9.57111504504735, C3 = 2.610375307289615\n",
      "Optimized parameters: R4 = 40.93086342621274, C4 = 0.046326148803178986\n",
      "Optimized parameters: R5 = 36.04601362200058, C5 = 0.693122750771585\n",
      "Optimized parameters: R6 = 59.20581416937648, C6 = 1.5062120933999863\n"
     ]
    }
   ],
   "source": [
    "C1_opt = 1 / (np.multiply(R1_opt, T1_opt))\n",
    "print(f\"Optimized parameters: R1 = {R1_opt}, C1 = {C1_opt}\")\n",
    "\n",
    "C2_opt = 1 / (np.multiply(R2_opt, T2_opt))\n",
    "print(f\"Optimized parameters: R2 = {R2_opt}, C2 = {C2_opt}\")\n",
    "\n",
    "C3_opt = 1 / (np.multiply(R3_opt, T3_opt))\n",
    "print(f\"Optimized parameters: R3 = {R3_opt}, C3 = {C3_opt}\")\n",
    "\n",
    "C4_opt = 1 / (np.multiply(R4_opt, T4_opt))\n",
    "print(f\"Optimized parameters: R4 = {R4_opt}, C4 = {C4_opt}\")\n",
    "\n",
    "C5_opt = 1 / (np.multiply(R5_opt, T5_opt))\n",
    "print(f\"Optimized parameters: R5 = {R5_opt}, C5 = {C5_opt}\")\n",
    "\n",
    "C6_opt = 1 / (np.multiply(R6_opt, T6_opt))\n",
    "print(f\"Optimized parameters: R6 = {R6_opt}, C6 = {C6_opt}\")"
   ]
  },
  {
   "cell_type": "markdown",
   "id": "3fac92f6-4ae8-410f-bdf6-e00e89738b37",
   "metadata": {},
   "source": [
    "# Convert into cauer filter using python script\n",
    "link to the creators git repo: https://github.com/thara3/FosterCauer_CauerFoster/tree/master\n",
    "\n",
    "it is developed for python 3.7 but works well in python 3.11 and 3.13"
   ]
  },
  {
   "cell_type": "markdown",
   "id": "311c235d-e258-4c50-b683-8bc107985bed",
   "metadata": {},
   "source": [
    "## Format parameters\n",
    "The format stated in the repository\n",
    "\n",
    "![alt text](Conversion_Format.png \"Title\")\n"
   ]
  },
  {
   "cell_type": "code",
   "execution_count": 12,
   "id": "4d868b83-4d13-49fd-9b10-abe26ceeb76b",
   "metadata": {},
   "outputs": [
    {
     "name": "stdout",
     "output_type": "stream",
     "text": [
      "STAGES= 6\n",
      "1 0.0003996756794962862 2.4189373659565034\n",
      "2 0.010095367913945753 1.9341153089845189\n",
      "3 2.610375307289615 9.57111504504735\n",
      "4 0.046326148803178986 40.93086342621274\n",
      "5 0.693122750771585 36.04601362200058\n",
      "6 1.5062120933999863 59.20581416937648"
     ]
    }
   ],
   "source": [
    "f = open('foster.txt', 'w',encoding=\"utf-8\")\n",
    "f.write(f'STAGES= {6}\\n')\n",
    "f.write(f'{1} {C1_opt} {R1_opt}\\n')\n",
    "f.write(f'{2} {C2_opt} {R2_opt}\\n')\n",
    "f.write(f'{3} {C3_opt} {R3_opt}\\n')\n",
    "f.write(f'{4} {C4_opt} {R4_opt}\\n')\n",
    "f.write(f'{5} {C5_opt} {R5_opt}\\n')\n",
    "f.write(f'{6} {C6_opt} {R6_opt}')\n",
    "f.close()\n",
    "f = open('foster.txt', 'r')\n",
    "for line in f:\n",
    "    print(line,end='')\n",
    "f.close()"
   ]
  },
  {
   "cell_type": "markdown",
   "id": "41b5d661-991e-4905-8c9b-d850d1cdf18a",
   "metadata": {},
   "source": [
    "## run algorithm"
   ]
  },
  {
   "cell_type": "code",
   "execution_count": 13,
   "id": "f531db66-1eff-4ec1-827b-04fc1aca3489",
   "metadata": {},
   "outputs": [
    {
     "name": "stdout",
     "output_type": "stream",
     "text": [
      "stages = 6\n",
      "Rc_all = 150.107, Rf_all = 150.107\n"
     ]
    }
   ],
   "source": [
    "run FosterCauer_CauerFoster/Foster2Cauer.py foster.txt cauer.txt"
   ]
  },
  {
   "cell_type": "code",
   "execution_count": 14,
   "id": "b59d878d-d9d0-476f-bbd8-86550df81741",
   "metadata": {},
   "outputs": [
    {
     "name": "stdout",
     "output_type": "stream",
     "text": [
      "## Foster2Cauer results 6stages\n",
      "## Created: 2025-06-09 09-37-03\n",
      "# First stage (Cc1 and Rc1) is connected to Junction.\n",
      "STAGES=\t6\n",
      "\n",
      "# stage\tC_cauer\t\t\tR_cauer\t\t\tTau_cauer\n",
      "1\t0.000380929190180783\t2.65765831099150\t0.00101237962818322\n",
      "2\t0.00842701488133698\t2.80049026331286\t0.0235997731239768\n",
      "3\t0.0335502968807596\t49.5536853744943\t1.66254085585004\n",
      "4\t0.413972467835907\t68.7369387848563\t28.4552001802527\n",
      "5\t2.67690140587574\t26.3580862031020\t70.5579980132778\n",
      "6\t30423889415.6663\t8.21204187984037e-10\t24.9842254029084\n"
     ]
    }
   ],
   "source": [
    "f = open('cauer.txt', 'r')\n",
    "for line in f:\n",
    "    print(line,end='')\n",
    "f.close()"
   ]
  },
  {
   "cell_type": "markdown",
   "id": "818869fa-32cd-4ff4-b5a5-4f07a023fad3",
   "metadata": {},
   "source": [
    "## conversion to spice network"
   ]
  },
  {
   "cell_type": "code",
   "execution_count": 15,
   "id": "c1f229c6-1e9a-40e2-a4f3-815e3ab6a1c3",
   "metadata": {},
   "outputs": [
    {
     "name": "stdout",
     "output_type": "stream",
     "text": [
      "stages = 6\n"
     ]
    }
   ],
   "source": [
    "run FosterCauer_CauerFoster/myCRformat2Spice.py cauer.txt spice.lib"
   ]
  },
  {
   "cell_type": "code",
   "execution_count": 16,
   "id": "703fa973-c3af-4d61-8ca3-3dc3bd163cef",
   "metadata": {},
   "outputs": [
    {
     "name": "stdout",
     "output_type": "stream",
     "text": [
      "***************************************************\n",
      "* myCR data format to Spice SubCircuit format\n",
      "* Created: 2025-06-09 09-37-10\n",
      "* First stage (C1 and R1) is connected to Junction.\n",
      "***************************************************\n",
      ".SUBCKT CAUER 1 7\n",
      "C1 1 0 0.000380929190180783\n",
      "R1 1 2 2.6576583109915\n",
      "C2 2 0 0.00842701488133698\n",
      "R2 2 3 2.80049026331286\n",
      "C3 3 0 0.0335502968807596\n",
      "R3 3 4 49.5536853744943\n",
      "C4 4 0 0.413972467835907\n",
      "R4 4 5 68.7369387848563\n",
      "C5 5 0 2.67690140587574\n",
      "R5 5 6 26.358086203102\n",
      "C6 6 0 30423889415.6663\n",
      "R6 6 7 8.21204187984037e-10\n",
      ".ENDS CAUER\n"
     ]
    }
   ],
   "source": [
    "f = open('spice.lib', 'r')\n",
    "for line in f:\n",
    "    print(line,end='')\n",
    "f.close()"
   ]
  }
 ],
 "metadata": {
  "kernelspec": {
   "display_name": "Python 3 (ipykernel)",
   "language": "python",
   "name": "python3"
  },
  "language_info": {
   "codemirror_mode": {
    "name": "ipython",
    "version": 3
   },
   "file_extension": ".py",
   "mimetype": "text/x-python",
   "name": "python",
   "nbconvert_exporter": "python",
   "pygments_lexer": "ipython3",
   "version": "3.11.13"
  }
 },
 "nbformat": 4,
 "nbformat_minor": 5
}
